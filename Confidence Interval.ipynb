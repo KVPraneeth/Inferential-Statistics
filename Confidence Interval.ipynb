{
 "cells": [
  {
   "cell_type": "markdown",
   "metadata": {},
   "source": [
    "Calculate the 90% confidence Intervals of the data set of size(n=20) using the t Distribution using the t.interval() function and passing the alpha parameter to 0.90 in the python."
   ]
  },
  {
   "cell_type": "code",
   "execution_count": 2,
   "metadata": {},
   "outputs": [],
   "source": [
    "import numpy as np\n",
    "import scipy.stats as st"
   ]
  },
  {
   "cell_type": "code",
   "execution_count": 3,
   "metadata": {},
   "outputs": [],
   "source": [
    "gfg_data = [1, 1, 1, 2, 2, 2, 3, 3, 3, 3,  \n",
    "            3, 4, 4, 5, 5, 5, 6, 7, 8, 10] "
   ]
  },
  {
   "cell_type": "code",
   "execution_count": 4,
   "metadata": {},
   "outputs": [
    {
     "data": {
      "text/plain": [
       "np.float64(3.9)"
      ]
     },
     "execution_count": 4,
     "metadata": {},
     "output_type": "execute_result"
    }
   ],
   "source": [
    "np.mean(gfg_data)"
   ]
  },
  {
   "cell_type": "code",
   "execution_count": 5,
   "metadata": {},
   "outputs": [
    {
     "data": {
      "text/plain": [
       "(np.float64(2.962098014195961), np.float64(4.837901985804038))"
      ]
     },
     "execution_count": 5,
     "metadata": {},
     "output_type": "execute_result"
    }
   ],
   "source": [
    "st.t.interval(confidence=0.90,            # Confidence level (90%)\n",
    "             df=len(gfg_data)-1,          # Degrees of freedom (n-1) calculated\n",
    "             loc=np.mean(gfg_data),       # Sample mean (center of the interval) calculated\n",
    "             scale=st.sem(gfg_data)       # Standard error of the mean (SEM) calculated\n",
    ")"
   ]
  },
  {
   "cell_type": "markdown",
   "metadata": {},
   "source": [
    "Calculate the 90% confidence Intervals of the random data set of size(n=100) using the norm Distribution using the norm.interval() function and passing the alpha parameter to 0.90 in the python."
   ]
  },
  {
   "cell_type": "code",
   "execution_count": 6,
   "metadata": {},
   "outputs": [],
   "source": [
    "# np.random.seed(0) ----> sets the random seed for NumPy's random number generator. This ensures that random values remain the same each time the code is run."
   ]
  },
  {
   "cell_type": "markdown",
   "metadata": {},
   "source": [
    "Why Use np.random.seed(0)?  \n",
    "✅ Reproducibility – Ensures that random results are the same across multiple runs.  \n",
    "✅ Debugging – Helps in debugging models by keeping randomness fixed.  \n",
    "✅ Experimentation – Useful when comparing different methods with the same random dataset.  \n",
    "\n",
    "\n",
    "import numpy as np  \n",
    "  \n",
    "np.random.seed(0)  # Set the seed  \n",
    "print(np.random.randint(1, 100, 5))  # Generates the same numbers every time!  \n",
    "np.random.seed(0)  # Resetting the seed ensures the same output  \n",
    "print(np.random.randint(1, 100, 5))  "
   ]
  },
  {
   "cell_type": "code",
   "execution_count": 7,
   "metadata": {},
   "outputs": [],
   "source": [
    "gfg_data = np.random.randint(5, 10, 100) # np.random.randint(start(inclusive), stop(exclusive), count(number of numbers to take))"
   ]
  },
  {
   "cell_type": "code",
   "execution_count": 8,
   "metadata": {},
   "outputs": [
    {
     "data": {
      "text/plain": [
       "array([5, 6, 5, 8, 5, 7, 5, 7, 5, 7, 7, 8, 7, 5, 8, 5, 7, 9, 7, 8, 7, 6,\n",
       "       9, 5, 7, 7, 8, 7, 7, 8, 9, 8, 5, 5, 6, 9, 9, 9, 5, 6, 9, 7, 5, 6,\n",
       "       5, 9, 7, 9, 6, 7, 5, 9, 8, 5, 7, 9, 5, 8, 8, 9, 6, 8, 7, 6, 7, 5,\n",
       "       7, 6, 6, 7, 7, 8, 6, 9, 6, 6, 5, 7, 6, 6, 7, 5, 6, 5, 9, 5, 6, 7,\n",
       "       7, 7, 9, 5, 5, 9, 8, 9, 7, 6, 6, 7], dtype=int32)"
      ]
     },
     "execution_count": 8,
     "metadata": {},
     "output_type": "execute_result"
    }
   ],
   "source": [
    "gfg_data"
   ]
  },
  {
   "cell_type": "code",
   "execution_count": 9,
   "metadata": {},
   "outputs": [
    {
     "name": "stdout",
     "output_type": "stream",
     "text": [
      "Mean = 6.82\n"
     ]
    }
   ],
   "source": [
    "print(f\"Mean = {np.mean(gfg_data)}\")"
   ]
  },
  {
   "cell_type": "code",
   "execution_count": 10,
   "metadata": {},
   "outputs": [
    {
     "data": {
      "text/plain": [
       "(np.float64(6.592875155054717), np.float64(7.047124844945284))"
      ]
     },
     "execution_count": 10,
     "metadata": {},
     "output_type": "execute_result"
    }
   ],
   "source": [
    "st.norm.interval(confidence = 0.90,loc = np.mean(gfg_data), scale=st.sem(gfg_data))"
   ]
  },
  {
   "cell_type": "code",
   "execution_count": null,
   "metadata": {},
   "outputs": [],
   "source": []
  }
 ],
 "metadata": {
  "kernelspec": {
   "display_name": "Python 3",
   "language": "python",
   "name": "python3"
  },
  "language_info": {
   "codemirror_mode": {
    "name": "ipython",
    "version": 3
   },
   "file_extension": ".py",
   "mimetype": "text/x-python",
   "name": "python",
   "nbconvert_exporter": "python",
   "pygments_lexer": "ipython3",
   "version": "3.11.8"
  }
 },
 "nbformat": 4,
 "nbformat_minor": 2
}
