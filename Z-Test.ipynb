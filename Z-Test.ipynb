{
 "cells": [
  {
   "cell_type": "code",
   "execution_count": 1,
   "metadata": {},
   "outputs": [],
   "source": [
    "import math\n",
    "import numpy as np\n",
    "import scipy"
   ]
  },
  {
   "cell_type": "code",
   "execution_count": 3,
   "metadata": {},
   "outputs": [],
   "source": [
    "alpha = 0.05"
   ]
  },
  {
   "cell_type": "code",
   "execution_count": 4,
   "metadata": {},
   "outputs": [],
   "source": [
    "def z_test(n, sample_mean, null_mean, sd, alternative):\n",
    "    z_score = (sample_mean - null_mean)/(sd/math.sqrt(n)) # calc z score based on the formulae\n",
    "    p_value = scipy.stats.norm.sf(z_score) # calc p_value from z-score using survival function in std normal distribution\n",
    "    print(z_score)\n",
    "    print(p_value)\n",
    "\n",
    "    if(alternative == \"larger\" or alternative == \"smaller\"):\n",
    "        if(p_value < alpha):\n",
    "            print(\"Reject Null Hypothesis\")\n",
    "        else:\n",
    "            print(\"Fail to Reject Null Hypothesis\")\n",
    "    elif(alternative == \"two-sided\"):\n",
    "        if(p_value < alpha/2):\n",
    "            print(\"Reject Null Hypothesis\")\n",
    "        else:\n",
    "            print(\"Fail to Reject Null Hypothesis\")"
   ]
  },
  {
   "cell_type": "code",
   "execution_count": 5,
   "metadata": {},
   "outputs": [
    {
     "name": "stdout",
     "output_type": "stream",
     "text": [
      "4.714045207910317\n",
      "1.2142337364879197e-06\n",
      "Reject Null Hypothesis\n"
     ]
    }
   ],
   "source": [
    "z_test(50,110, 100,15, \"larger\")"
   ]
  },
  {
   "cell_type": "code",
   "execution_count": 7,
   "metadata": {},
   "outputs": [],
   "source": [
    "mean_iq = 90\n",
    "sd_iq = 20/math.sqrt(81)\n",
    "data2 = sd_iq*np.random.randn(81)+mean_iq"
   ]
  },
  {
   "cell_type": "markdown",
   "metadata": {},
   "source": [
    "code is generating 81 random IQ scores from a normal distribution with:  \n",
    "  \n",
    "Mean (mean_iq) = 90  \n",
    "Standard Deviation (sd_iq) = 20 / sqrt(81)  "
   ]
  },
  {
   "cell_type": "code",
   "execution_count": 8,
   "metadata": {},
   "outputs": [
    {
     "name": "stdout",
     "output_type": "stream",
     "text": [
      "3.5999999999999996\n",
      "0.00015910859015753396\n",
      "Reject Null Hypothesis\n"
     ]
    }
   ],
   "source": [
    "z_test(81,90,82,20,\"larger\")"
   ]
  },
  {
   "cell_type": "code",
   "execution_count": 11,
   "metadata": {},
   "outputs": [],
   "source": [
    "from statsmodels.stats.weightstats import ztest"
   ]
  },
  {
   "cell_type": "code",
   "execution_count": 14,
   "metadata": {},
   "outputs": [],
   "source": [
    "null_mean = 100  # Null hypothesis mean\n",
    "ztest_score, p_value = ztest(data2,value = null_mean, alternative='larger')\n",
    "# code is performing a one-sample Z-test to check whether the mean of data2 is significantly greater than null_mean."
   ]
  },
  {
   "cell_type": "code",
   "execution_count": 15,
   "metadata": {},
   "outputs": [
    {
     "name": "stdout",
     "output_type": "stream",
     "text": [
      "Fail to Reject NUll Hypothesis\n"
     ]
    }
   ],
   "source": [
    "if(p_value <  alpha):\n",
    "  print(\"Reject Null Hypothesis\")\n",
    "else:\n",
    "  print(\"Fail to Reject NUll Hypothesis\")"
   ]
  },
  {
   "cell_type": "code",
   "execution_count": null,
   "metadata": {},
   "outputs": [],
   "source": []
  }
 ],
 "metadata": {
  "kernelspec": {
   "display_name": "Python 3",
   "language": "python",
   "name": "python3"
  },
  "language_info": {
   "codemirror_mode": {
    "name": "ipython",
    "version": 3
   },
   "file_extension": ".py",
   "mimetype": "text/x-python",
   "name": "python",
   "nbconvert_exporter": "python",
   "pygments_lexer": "ipython3",
   "version": "3.11.8"
  }
 },
 "nbformat": 4,
 "nbformat_minor": 2
}
